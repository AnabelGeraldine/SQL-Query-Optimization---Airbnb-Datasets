{
 "cells": [
  {
   "cell_type": "markdown",
   "metadata": {
    "application/vnd.databricks.v1+cell": {
     "cellMetadata": {},
     "inputWidgets": {},
     "nuid": "52807d5b-6aa0-43c1-82ac-474f896a5226",
     "showTitle": false,
     "tableResultSettingsMap": {},
     "title": ""
    }
   },
   "source": [
    "## Individual Task 1 - Anabel SID:520360707"
   ]
  },
  {
   "cell_type": "code",
   "execution_count": 0,
   "metadata": {
    "application/vnd.databricks.v1+cell": {
     "cellMetadata": {},
     "inputWidgets": {},
     "nuid": "a8e48f10-3732-4b95-b9f2-53170ca0a253",
     "showTitle": false,
     "tableResultSettingsMap": {},
     "title": ""
    }
   },
   "outputs": [],
   "source": [
    "%sql\n",
    "\n",
    "-- Main code (small dataset)\n",
    "\n",
    "SELECT \n",
    "    l.id AS listing_id,\n",
    "    l.listing_name,\n",
    "    COUNT(*) AS num_reviews,\n",
    "    MAX(r.review_date) AS last_review\n",
    "FROM airbnb.listings_small AS l\n",
    "JOIN airbnb.reviews_small AS r \n",
    "    ON l.id = r.listing_id\n",
    "JOIN airbnb.cities AS c\n",
    "    ON l.city_id = c.id\n",
    "WHERE c.city_name = 'Melbourne'\n",
    "  AND r.review_date >= CURRENT_DATE - INTERVAL '365 days'\n",
    "GROUP BY l.id, l.listing_name\n",
    "ORDER BY num_reviews DESC,\n",
    "         l.listing_name ASC\n",
    "LIMIT 5;\n"
   ]
  },
  {
   "cell_type": "code",
   "execution_count": 0,
   "metadata": {
    "application/vnd.databricks.v1+cell": {
     "cellMetadata": {},
     "inputWidgets": {},
     "nuid": "afd07766-9a90-4dcd-b15b-7bb81002974a",
     "showTitle": false,
     "tableResultSettingsMap": {},
     "title": ""
    }
   },
   "outputs": [],
   "source": [
    "%sql\n",
    "-- Main code (medium dataset)\n",
    "SELECT \n",
    "    l.id AS listing_id,\n",
    "    l.listing_name,\n",
    "    COUNT(*) AS num_reviews,\n",
    "    MAX(r.review_date) AS last_review\n",
    "FROM airbnb.listings_medium AS l\n",
    "JOIN airbnb.reviews_medium AS r \n",
    "    ON l.id = r.listing_id\n",
    "JOIN airbnb.cities AS c\n",
    "    ON l.city_id = c.id\n",
    "WHERE c.city_name = 'Melbourne'\n",
    "  AND r.review_date >= CURRENT_DATE - INTERVAL '365 days'\n",
    "GROUP BY l.id, l.listing_name\n",
    "ORDER BY num_reviews DESC,\n",
    "         l.listing_name ASC\n",
    "LIMIT 5;\n"
   ]
  },
  {
   "cell_type": "code",
   "execution_count": 0,
   "metadata": {
    "application/vnd.databricks.v1+cell": {
     "cellMetadata": {},
     "inputWidgets": {},
     "nuid": "705e9fa4-3e7e-47db-9ecd-58b7f4c5ac46",
     "showTitle": false,
     "tableResultSettingsMap": {},
     "title": ""
    }
   },
   "outputs": [],
   "source": [
    "%sql\n",
    "-- Index Tuning\n",
    "CREATE INDEX IF NOT EXISTS idx_reviews_medium_listingid_reviewdate\n",
    "    ON airbnb.reviews_medium (listing_id, review_date);\n"
   ]
  },
  {
   "cell_type": "markdown",
   "metadata": {
    "application/vnd.databricks.v1+cell": {
     "cellMetadata": {},
     "inputWidgets": {},
     "nuid": "2b070290-39a1-4037-a39f-c113eefc6d7c",
     "showTitle": false,
     "tableResultSettingsMap": {},
     "title": ""
    }
   },
   "source": [
    "## Individual Task 2: Hieu SID:520133684"
   ]
  },
  {
   "cell_type": "code",
   "execution_count": 0,
   "metadata": {
    "application/vnd.databricks.v1+cell": {
     "cellMetadata": {},
     "inputWidgets": {},
     "nuid": "a12f1c7e-ebad-4c39-bbac-d50866a0c36f",
     "showTitle": false,
     "tableResultSettingsMap": {},
     "title": ""
    }
   },
   "outputs": [],
   "source": [
    "%sql\n",
    "-- Small Dataset:\n",
    "\n",
    "SELECT qualified.id,  qualified.host_name, count(DISTINCT qualified.listing_id) as number_of_listings\n",
    "FROM (\n",
    "    SELECT a.id, a.host_name, b.id as  listing_id\n",
    "     FROM  AirBnb.Hosts a\n",
    "    JOIN AirBnb.Listings_small b on a.id = b.host_id\n",
    "     WHERE a.acceptance_rate like '100%' and b.room_type like 'Private room'\n",
    "     and EXISTS (select 1 from AirBnb.Reviews_small c where c.listing_id = b.id)\n",
    "    ) as qualified\n",
    "GROUP by qualified.id, qualified.host_name\n",
    "Order by count(distinct qualified.listing_id) desc, qualified.host_name asc\n",
    "LIMIT 10;"
   ]
  },
  {
   "cell_type": "code",
   "execution_count": 0,
   "metadata": {
    "application/vnd.databricks.v1+cell": {
     "cellMetadata": {},
     "inputWidgets": {},
     "nuid": "57d66bde-9286-4a03-89bd-6127410ec365",
     "showTitle": false,
     "tableResultSettingsMap": {},
     "title": ""
    }
   },
   "outputs": [],
   "source": [
    "%sql\n",
    "-- Medium Dataset:\n",
    "SELECT qualified.id,  qualified.host_name, count(DISTINCT qualified.listing_id) as number_of_listings\n",
    "FROM (\n",
    "    SELECT a.id, a.host_name, b.id as  listing_id\n",
    "     FROM  AirBnb.Hosts a\n",
    "    JOIN AirBnb.Listings_small b on a.id = b.host_id\n",
    "     WHERE a.acceptance_rate like '100%' and b.room_type like 'Private room'\n",
    "     and EXISTS (select 1 from AirBnb.Reviews_small c where c.listing_id = b.id)\n",
    "    ) as qualified\n",
    "GROUP by qualified.id, qualified.host_name\n",
    "Order by count(distinct qualified.listing_id) desc, qualified.host_name asc\n",
    "LIMIT 10;\n"
   ]
  },
  {
   "cell_type": "code",
   "execution_count": 0,
   "metadata": {
    "application/vnd.databricks.v1+cell": {
     "cellMetadata": {},
     "inputWidgets": {},
     "nuid": "d757062b-4a6a-4885-843f-b86561cc513e",
     "showTitle": false,
     "tableResultSettingsMap": {},
     "title": ""
    }
   },
   "outputs": [],
   "source": [
    "%sql\n",
    "-- Index Tuning\n",
    "Create index reviews_list_index on AirBnb.Reviews_medium(listings_id);\n"
   ]
  },
  {
   "cell_type": "markdown",
   "metadata": {
    "application/vnd.databricks.v1+cell": {
     "cellMetadata": {},
     "inputWidgets": {},
     "nuid": "88871138-9c43-433e-9bb4-c7087f51c0b2",
     "showTitle": false,
     "tableResultSettingsMap": {},
     "title": ""
    }
   },
   "source": [
    "## Individual task 3: Hamza SID:520636761"
   ]
  },
  {
   "cell_type": "code",
   "execution_count": 0,
   "metadata": {
    "application/vnd.databricks.v1+cell": {
     "cellMetadata": {},
     "inputWidgets": {},
     "nuid": "3419f390-eb2b-4018-bf85-c487eb657320",
     "showTitle": false,
     "tableResultSettingsMap": {},
     "title": ""
    }
   },
   "outputs": [],
   "source": [
    "%sql\n",
    "-- Medium Dataset\n",
    "SELECT\n",
    "r.reviewer_id,\n",
    "r. reviewer_name,\n",
    "COUNT (*) As num_reviews,\n",
    "MAX (r.review_date) AS last_review\n",
    "FROM AirBnB.Reviews_Medium r\n",
    "JOIN AirBnB.Listings_Medium l ON r.listing_id = l.id\n",
    "JOIN AirBnB.Cities c ON l.city_id = c.id\n",
    "WHERE c.city_name = 'Berlin'\n",
    "GROUP BY r.reviewer_id, r.reviewer_name\n",
    "ORDER BY num_reviews DESC\n",
    "LIMIT 3;"
   ]
  },
  {
   "cell_type": "code",
   "execution_count": 0,
   "metadata": {
    "application/vnd.databricks.v1+cell": {
     "cellMetadata": {},
     "inputWidgets": {},
     "nuid": "e7b96845-ee95-4837-8b11-7ad69968e55d",
     "showTitle": false,
     "tableResultSettingsMap": {},
     "title": ""
    }
   },
   "outputs": [],
   "source": [
    "%sql\n",
    "--Small Dataset\n",
    "SELECT\n",
    "r.reviewer_id,\n",
    "r. reviewer_name,\n",
    "COUNT (*) As num_reviews,\n",
    "MAX (r.review_date) AS last_review\n",
    "FROM AirBnB.Reviews_small r\n",
    "JOIN AirBnB.Listings_small l ON r.listing_id = l.id\n",
    "JOIN AirBnB.Cities c ON l.city_id = c.id\n",
    "WHERE c.city_name = 'Berlin'\n",
    "GROUP BY r.reviewer_id, r.reviewer_name\n",
    "ORDER BY num_reviews DESC\n",
    "LIMIT 3;\n",
    "-- Index Tuning:\n",
    "CREATE INDEX idx_reviews_listing_id ON AirBnB.Reviews_Medium(listing_id);\n"
   ]
  },
  {
   "cell_type": "markdown",
   "metadata": {
    "application/vnd.databricks.v1+cell": {
     "cellMetadata": {},
     "inputWidgets": {},
     "nuid": "c2e06eb9-a688-4eba-8f52-f1d57d87e0ee",
     "showTitle": false,
     "tableResultSettingsMap": {},
     "title": ""
    }
   },
   "source": [
    "## Team Task 1: Anabel SID:520360707"
   ]
  },
  {
   "cell_type": "code",
   "execution_count": 0,
   "metadata": {
    "application/vnd.databricks.v1+cell": {
     "cellMetadata": {},
     "inputWidgets": {},
     "nuid": "c4ff971e-e18c-45a0-8857-b07396c455ca",
     "showTitle": false,
     "tableResultSettingsMap": {},
     "title": ""
    }
   },
   "outputs": [],
   "source": [
    "%sql\n",
    "-- Main code \n",
    "WITH complaint_listings AS (\n",
    "    SELECT\n",
    "        r.listing_id,\n",
    "        COUNT(*) AS complaint_count\n",
    "    FROM airbnb.reviews_medium AS r\n",
    "    WHERE EXTRACT(YEAR FROM r.review_date) IN (2024, 2025)\n",
    "      AND r.comments ILIKE '%complaint%'\n",
    "    GROUP BY r.listing_id\n",
    ")\n",
    "SELECT\n",
    "    c.city_name AS city,\n",
    "    n.nhood_name,\n",
    "    COUNT(DISTINCT l.id) AS num_complaint_listings,\n",
    "    ROUND(AVG(complaint_listings.complaint_count)::numeric, 2) AS avg_complaints_per_listing\n",
    "FROM complaint_listings\n",
    "JOIN airbnb.listings_medium l ON complaint_listings.listing_id = l.id\n",
    "JOIN airbnb.hosts h          ON l.host_id = h.id\n",
    "JOIN airbnb.neighbourhoods n ON l.neighbourhood = n.id\n",
    "JOIN airbnb.cities c         ON n.city_id = c.id\n",
    "WHERE c.city_name = 'Sydney'\n",
    "  AND h.is_superhost = 't'\n",
    "  AND l.price > 100\n",
    "GROUP BY c.city_name, n.nhood_name\n",
    "ORDER BY num_complaint_listings DESC\n",
    "LIMIT 10;\n"
   ]
  },
  {
   "cell_type": "code",
   "execution_count": 0,
   "metadata": {
    "application/vnd.databricks.v1+cell": {
     "cellMetadata": {},
     "inputWidgets": {},
     "nuid": "c8721ab1-a3d1-4a5d-9f34-9178e7f72e92",
     "showTitle": false,
     "tableResultSettingsMap": {},
     "title": ""
    }
   },
   "outputs": [],
   "source": [
    "%sql\n",
    "-- Index Tuning (Small)\n",
    "-- Index for filtering on review_date\n",
    "CREATE INDEX idx_reviews_small_review_date\n",
    "    ON airbnb.reviews_small (review_date);\n",
    "\n",
    "-- Enable the pg_trgm extension \n",
    "CREATE EXTENSION IF NOT EXISTS pg_trgm;\n",
    "\n",
    "-- Index for improving ILIKE search on comments\n",
    "CREATE INDEX idx_reviews_small_comments_gin\n",
    "    ON airbnb.reviews_small USING GIN (comments gin_trgm_ops);\n",
    "\n",
    "-- Index for filtering on price in listings_small\n",
    "CREATE INDEX idx_listings_small_price\n",
    "    ON airbnb.listings_small (price);\n",
    "\n",
    "-- Index for optimizing join on neighbourhood in listings_small\n",
    "CREATE INDEX idx_listings_small_neighbourhood\n",
    "    ON airbnb.listings_small (neighbourhood);\n",
    "\n",
    "-- Index Tuning (Medium)\n",
    "-- CREATE INDEX idx_reviews_medium_review_date\n",
    "    ON airbnb.reviews_medium (review_date);\n",
    "\n",
    "-- CREATE INDEX idx_reviews_medium_comments_gin\n",
    "    ON airbnb.reviews_medium USING GIN (comments gin_trgm_ops);\n",
    "\n",
    "-- CREATE INDEX idx_listings_medium_price\n",
    "    ON airbnb.listings_medium (price);\n",
    "\n",
    "-- CREATE INDEX idx_listings_medium_neighbourhood\n",
    "    ON airbnb.listings_medium (neighbourhood);\n",
    "\n",
    "-- Index Tuning (Large)\n",
    "-- CREATE INDEX idx_reviews_large_review_date\n",
    "    ON airbnb.reviews_large (review_date);\n",
    "\n",
    "-- CREATE INDEX idx_reviews_large_comments_gin\n",
    "    ON airbnb.reviews_large USING GIN (comments gin_trgm_ops);\n",
    "\n",
    "-- CREATE INDEX idx_listings_large_price\n",
    "    ON airbnb.listings_large (price);\n",
    "\n",
    "-- CREATE INDEX idx_listings_large_neighbourhood\n",
    "    ON airbnb.listings_large (neighbourhood);\n",
    "\n",
    "-- CREATE INDEX IF NOT EXISTS idx_hosts_is_superhost\n",
    "    ON airbnb.hosts (is_superhost);\n"
   ]
  },
  {
   "cell_type": "code",
   "execution_count": 0,
   "metadata": {
    "application/vnd.databricks.v1+cell": {
     "cellMetadata": {},
     "inputWidgets": {},
     "nuid": "2ec86098-5d51-4d71-b65e-14a5813e3190",
     "showTitle": false,
     "tableResultSettingsMap": {},
     "title": ""
    }
   },
   "outputs": [],
   "source": [
    "%sql\n",
    "-- Code for Before and After Tuning (Small)\n",
    "EXPLAIN ANALYZE\n",
    "WITH complaint_listings AS (\n",
    "    SELECT\n",
    "        r.listing_id,\n",
    "        COUNT(*) AS complaint_count\n",
    "    FROM airbnb.reviews_small AS r\n",
    "    WHERE EXTRACT(YEAR FROM r.review_date) IN (2024, 2025)\n",
    "      AND r.comments ILIKE '%complaint%'\n",
    "    GROUP BY r.listing_id\n",
    ")\n",
    "SELECT\n",
    "    c.city_name AS city,\n",
    "    n.nhood_name,\n",
    "    COUNT(DISTINCT l.id) AS num_complaint_listings,\n",
    "    ROUND(AVG(cl.complaint_count)::numeric, 2) AS avg_complaints_per_listing\n",
    "FROM complaint_listings cl\n",
    "JOIN airbnb.listings_small l ON cl.listing_id = l.id\n",
    "JOIN airbnb.hosts h          ON l.host_id = h.id\n",
    "JOIN airbnb.neighbourhoods n ON l.neighbourhood = n.id\n",
    "JOIN airbnb.cities c         ON n.city_id = c.id\n",
    "WHERE c.city_name = 'Sydney'\n",
    "  AND h.is_superhost = 't'\n",
    "  AND l.price > 100\n",
    "GROUP BY c.city_name, n.nhood_name\n",
    "ORDER BY num_complaint_listings DESC\n",
    "LIMIT 10;\n"
   ]
  },
  {
   "cell_type": "code",
   "execution_count": 0,
   "metadata": {
    "application/vnd.databricks.v1+cell": {
     "cellMetadata": {},
     "inputWidgets": {},
     "nuid": "83b3f217-dc26-42fc-b1a4-6e6434a787c9",
     "showTitle": false,
     "tableResultSettingsMap": {},
     "title": ""
    }
   },
   "outputs": [],
   "source": [
    "%sql\n",
    "-- Code for Before and After Tuning (Medium)\n",
    "EXPLAIN ANALYZE\n",
    "WITH complaint_listings AS (\n",
    "    SELECT\n",
    "        r.listing_id,\n",
    "        COUNT(*) AS complaint_count\n",
    "    FROM airbnb.reviews_medium AS r\n",
    "    WHERE EXTRACT(YEAR FROM r.review_date) IN (2024, 2025)\n",
    "      AND r.comments ILIKE '%complaint%'\n",
    "    GROUP BY r.listing_id\n",
    ")\n",
    "SELECT\n",
    "    c.city_name AS city,\n",
    "    n.nhood_name,\n",
    "    COUNT(DISTINCT l.id) AS num_complaint_listings,\n",
    "    ROUND(AVG(cl.complaint_count)::numeric, 2) AS avg_complaints_per_listing\n",
    "FROM complaint_listings cl\n",
    "JOIN airbnb.listings_medium l ON cl.listing_id = l.id\n",
    "JOIN airbnb.hosts h          ON l.host_id = h.id\n",
    "JOIN airbnb.neighbourhoods n ON l.neighbourhood = n.id\n",
    "JOIN airbnb.cities c         ON n.city_id = c.id\n",
    "WHERE c.city_name = 'Sydney'\n",
    "  AND h.is_superhost = 't'\n",
    "  AND l.price > 100\n",
    "GROUP BY c.city_name, n.nhood_name\n",
    "ORDER BY num_complaint_listings DESC\n",
    "LIMIT 10;"
   ]
  },
  {
   "cell_type": "code",
   "execution_count": 0,
   "metadata": {
    "application/vnd.databricks.v1+cell": {
     "cellMetadata": {},
     "inputWidgets": {},
     "nuid": "f502c904-1141-43d3-8733-906b31dacb9c",
     "showTitle": false,
     "tableResultSettingsMap": {},
     "title": ""
    }
   },
   "outputs": [],
   "source": [
    "%sql\n",
    "-- Code for Before and After Tuning (Large)\n",
    "EXPLAIN ANALYZE\n",
    "WITH complaint_listings AS (\n",
    "    SELECT\n",
    "        r.listing_id,\n",
    "        COUNT(*) AS complaint_count\n",
    "    FROM airbnb.reviews_large AS r\n",
    "    WHERE EXTRACT(YEAR FROM r.review_date) IN (2024, 2025)\n",
    "      AND r.comments ILIKE '%complaint%'\n",
    "    GROUP BY r.listing_id\n",
    ")\n",
    "SELECT\n",
    "    c.city_name AS city,\n",
    "    n.nhood_name,\n",
    "    COUNT(DISTINCT l.id) AS num_complaint_listings,\n",
    "    ROUND(AVG(cl.complaint_count)::numeric, 2) AS avg_complaints_per_listing\n",
    "FROM complaint_listings cl\n",
    "JOIN airbnb.listings_large l ON cl.listing_id = l.id\n",
    "JOIN airbnb.hosts h          ON l.host_id = h.id\n",
    "JOIN airbnb.neighbourhoods n ON l.neighbourhood = n.id\n",
    "JOIN airbnb.cities c         ON n.city_id = c.id\n",
    "WHERE c.city_name = 'Sydney'\n",
    "  AND h.is_superhost = 't'\n",
    "  AND l.price > 100\n",
    "GROUP BY c.city_name, n.nhood_name\n",
    "ORDER BY num_complaint_listings DESC\n",
    "LIMIT 10;\n",
    "\n"
   ]
  },
  {
   "cell_type": "markdown",
   "metadata": {
    "application/vnd.databricks.v1+cell": {
     "cellMetadata": {},
     "inputWidgets": {},
     "nuid": "57dbffdd-33d3-443a-b558-682e6f745580",
     "showTitle": false,
     "tableResultSettingsMap": {},
     "title": ""
    }
   },
   "source": [
    "## Team Task 2: Hamza SID:520636761, Hieu SID:520133684"
   ]
  },
  {
   "cell_type": "code",
   "execution_count": 0,
   "metadata": {
    "application/vnd.databricks.v1+cell": {
     "cellMetadata": {},
     "inputWidgets": {},
     "nuid": "a122566b-64c7-455b-be2d-68d382e15973",
     "showTitle": false,
     "tableResultSettingsMap": {},
     "title": ""
    }
   },
   "outputs": [],
   "source": [
    "%sql\n",
    "--Large Dataset\n",
    "WITH review_counts AS (\n",
    "\tSELECT\n",
    "    \tl.id AS listing_id,\n",
    "    \tc.city_name,\n",
    "    \tl.amenities,\n",
    "    \tCOUNT(r.id) AS num_reviews\n",
    "\tFROM AirBnB.Reviews_large r\n",
    "\tJOIN AirBnB.Listings_large l ON r.listing_id = l.id\n",
    "\tJOIN AirBnB.Cities c ON l.city_id = c.id\n",
    "\tGROUP BY l.id, c.city_name, l.amenities\n",
    "),\n",
    "ranked_listings AS (\n",
    "\tSELECT *,\n",
    "       \tPERCENT_RANK() OVER (PARTITION BY city_name ORDER BY num_reviews DESC) AS rank\n",
    "\tFROM review_counts\n",
    "),\n",
    "popular_oceanview_listings AS (\n",
    "\tSELECT *\n",
    "\tFROM ranked_listings\n",
    "\tWHERE rank <= 0.2 AND amenities @> ARRAY['Ocean view']\n",
    ")\n",
    "SELECT\n",
    "\tcity_name,\n",
    "\tCOUNT(*) AS num_popular_oceanview_listings\n",
    "FROM popular_oceanview_listings\n",
    "GROUP BY city_name\n",
    "ORDER BY city_name;"
   ]
  },
  {
   "cell_type": "code",
   "execution_count": 0,
   "metadata": {
    "application/vnd.databricks.v1+cell": {
     "cellMetadata": {},
     "inputWidgets": {},
     "nuid": "a4abd672-6cdc-471b-90b0-1df97687f7ca",
     "showTitle": false,
     "tableResultSettingsMap": {},
     "title": ""
    }
   },
   "outputs": [],
   "source": [
    "%sql\n",
    "--Medium dataset\n",
    "WITH review_counts AS (\n",
    "\tSELECT\n",
    "    \tl.id AS listing_id,\n",
    "    \tc.city_name,\n",
    "    \tl.amenities,\n",
    "    \tCOUNT(r.id) AS num_reviews\n",
    "\tFROM AirBnB.Reviews_medium r\n",
    "\tJOIN AirBnB.Listings_medium l ON r.listing_id = l.id\n",
    "\tJOIN AirBnB.Cities c ON l.city_id = c.id\n",
    "\tGROUP BY l.id, c.city_name, l.amenities\n",
    "),\n",
    "ranked_listings AS (\n",
    "\tSELECT *,\n",
    "       \tPERCENT_RANK() OVER (PARTITION BY city_name ORDER BY num_reviews DESC) AS rank\n",
    "\tFROM review_counts\n",
    "),\n",
    "popular_oceanview_listings AS (\n",
    "\tSELECT *\n",
    "\tFROM ranked_listings\n",
    "\tWHERE rank <= 0.2 AND amenities @> ARRAY['Ocean view']\n",
    ")\n",
    "SELECT\n",
    "\tcity_name,\n",
    "\tCOUNT(*) AS num_popular_oceanview_listings\n",
    "FROM popular_oceanview_listings\n",
    "GROUP BY city_name\n",
    "ORDER BY city_name;"
   ]
  },
  {
   "cell_type": "code",
   "execution_count": 0,
   "metadata": {
    "application/vnd.databricks.v1+cell": {
     "cellMetadata": {},
     "inputWidgets": {},
     "nuid": "7d3c1d21-b496-43b6-a74a-95e8ea62370f",
     "showTitle": false,
     "tableResultSettingsMap": {},
     "title": ""
    }
   },
   "outputs": [],
   "source": [
    "%sql\n",
    "--Small Dataset\n",
    "WITH review_counts AS (\n",
    "\tSELECT\n",
    "    \tl.id AS listing_id,\n",
    "    \tc.city_name,\n",
    "    \tl.amenities,\n",
    "    \tCOUNT(r.id) AS num_reviews\n",
    "\tFROM AirBnB.Reviews_small r\n",
    "\tJOIN AirBnB.Listings_small l ON r.listing_id = l.id\n",
    "\tJOIN AirBnB.Cities c ON l.city_id = c.id\n",
    "\tGROUP BY l.id, c.city_name, l.amenities\n",
    "),\n",
    "ranked_listings AS (\n",
    "\tSELECT *,\n",
    "       \tPERCENT_RANK() OVER (PARTITION BY city_name ORDER BY num_reviews DESC) AS rank\n",
    "\tFROM review_counts\n",
    "),\n",
    "popular_oceanview_listings AS (\n",
    "\tSELECT *\n",
    "\tFROM ranked_listings\n",
    "\tWHERE rank <= 0.2 AND amenities @> ARRAY['Ocean view']\n",
    ")\n",
    "SELECT\n",
    "\tcity_name,\n",
    "\tCOUNT(*) AS num_popular_oceanview_listings\n",
    "FROM popular_oceanview_listings\n",
    "GROUP BY city_name\n",
    "ORDER BY city_name;"
   ]
  },
  {
   "cell_type": "code",
   "execution_count": 0,
   "metadata": {
    "application/vnd.databricks.v1+cell": {
     "cellMetadata": {},
     "inputWidgets": {},
     "nuid": "a48b196c-fe94-4a7e-b298-448e2e131627",
     "showTitle": false,
     "tableResultSettingsMap": {},
     "title": ""
    }
   },
   "outputs": [],
   "source": [
    "%sql\n",
    "--Index Tuning\n",
    "--Index 1, on listing_id\n",
    "CREATE INDEX idx_reviews_large_listingid_id ON airbnb.reviews_large(listing_id, id);\n",
    "\n",
    "--Gin Index\n",
    "CREATE INDEX idx__amenities ON airbnb.listings_large USING GIN(amenities);\n",
    " \n",
    "--Index on city_id\n",
    "CREATE INDEX idx_cityid ON airbnb.listings_large(city_id);\n"
   ]
  },
  {
   "cell_type": "markdown",
   "metadata": {
    "application/vnd.databricks.v1+cell": {
     "cellMetadata": {},
     "inputWidgets": {},
     "nuid": "b1051403-0df8-41b3-850c-1ab18bda04e6",
     "showTitle": false,
     "tableResultSettingsMap": {},
     "title": ""
    }
   },
   "source": [
    "## Team Task 3: FOR TEAM Q1 (Everyone)"
   ]
  },
  {
   "cell_type": "code",
   "execution_count": 0,
   "metadata": {
    "application/vnd.databricks.v1+cell": {
     "cellMetadata": {},
     "inputWidgets": {},
     "nuid": "ad51dbb3-2a3a-4849-94e1-13d0dfaad19c",
     "showTitle": false,
     "tableResultSettingsMap": {},
     "title": ""
    }
   },
   "outputs": [],
   "source": [
    "%sql\n",
    "-- SQL Code (Large Dataset)\n",
    "WITH complaint_listings AS (\n",
    "   SELECT\n",
    "       r.listing_id,\n",
    "       COUNT(*) AS complaint_count\n",
    "   FROM reviews_large AS r\n",
    "   WHERE EXTRACT(YEAR FROM r.review_date) IN (2024, 2025)\n",
    "     AND r.comments ILIKE '%complaint%'\n",
    "   GROUP BY r.listing_id\n",
    ")\n",
    "SELECT\n",
    "   c.city_name AS city,\n",
    "   n.nhood_name,\n",
    "   COUNT(DISTINCT l.id) AS num_complaint_listings,\n",
    "   ROUND(AVG(cl.complaint_count)::numeric, 2) AS avg_complaints_per_listing\n",
    "FROM complaint_listings cl\n",
    "JOIN listings_large l ON cl.listing_id = l.id\n",
    "JOIN hosts h          ON l.host_id = h.id\n",
    "JOIN neighbourhoods n ON l.neighbourhood = n.id\n",
    "JOIN cities c         ON n.city_id = c.id\n",
    "WHERE c.city_name = 'Sydney'\n",
    " AND h.is_superhost = 't'\n",
    " AND l.price > 100\n",
    "GROUP BY c.city_name, n.nhood_name\n",
    "ORDER BY num_complaint_listings DESC\n",
    "LIMIT 10;\n"
   ]
  },
  {
   "cell_type": "code",
   "execution_count": 0,
   "metadata": {
    "application/vnd.databricks.v1+cell": {
     "cellMetadata": {},
     "inputWidgets": {},
     "nuid": "782751cb-d5bf-4249-89b7-93f62109f4cc",
     "showTitle": false,
     "tableResultSettingsMap": {},
     "title": ""
    }
   },
   "outputs": [],
   "source": [
    "%python\n",
    "df_listings_large = spark.read.option(\"header\", \"true\").csv(\"/FileStore/tables/airbnb_listings_large.csv\")\n",
    "df_listings_large.createOrReplaceTempView(\"listings_large\")\n",
    "\n",
    "df_reviews_large = spark.read.option(\"header\", \"true\").csv(\"/FileStore/tables/airbnb_reviews_large.csv\")\n",
    "df_reviews_large.createOrReplaceTempView(\"reviews_large\")\n",
    "\n",
    "df_hosts = spark.read.option(\"header\", \"true\").csv(\"/FileStore/tables/airbnb_hosts.csv\")\n",
    "df_hosts.createOrReplaceTempView(\"hosts\")\n",
    "\n",
    "df_neighbourhoods = spark.read.option(\"header\", \"true\").csv(\"/FileStore/tables/airbnb_neighbourhoods.csv\")\n",
    "df_neighbourhoods.createOrReplaceTempView(\"neighbourhoods\")\n",
    "\n",
    "df_cities = spark.read.option(\"header\", \"true\").csv(\"/FileStore/tables/airbnb_cities.csv\")\n",
    "df_cities.createOrReplaceTempView(\"cities\")"
   ]
  },
  {
   "cell_type": "code",
   "execution_count": 0,
   "metadata": {
    "application/vnd.databricks.v1+cell": {
     "cellMetadata": {},
     "inputWidgets": {},
     "nuid": "a3837f5a-ed8f-42e3-9bb7-34b9938cfe94",
     "showTitle": false,
     "tableResultSettingsMap": {},
     "title": ""
    }
   },
   "outputs": [],
   "source": [
    "%sql\n",
    "WITH complaint_listings AS (\n",
    "   SELECT\n",
    "       r.listing_id,\n",
    "       COUNT(*) AS complaint_count\n",
    "   FROM reviews_large AS r\n",
    "   WHERE EXTRACT(YEAR FROM r.review_date) IN (2024, 2025)\n",
    "     AND r.comments ILIKE '%complaint%'\n",
    "   GROUP BY r.listing_id\n",
    ")\n",
    "SELECT\n",
    "   c.city_name AS city,\n",
    "   n.nhood_name,\n",
    "   COUNT(DISTINCT l.id) AS num_complaint_listings,\n",
    "   ROUND(AVG(cl.complaint_count)::numeric, 2) AS avg_complaints_per_listing\n",
    "FROM complaint_listings cl\n",
    "JOIN listings_large l ON cl.listing_id = l.id\n",
    "JOIN hosts h          ON l.host_id = h.id\n",
    "JOIN neighbourhoods n ON l.neighbourhood = n.id\n",
    "JOIN cities c         ON n.city_id = c.id\n",
    "WHERE c.city_name = 'Sydney'\n",
    " AND h.is_superhost = 't'\n",
    " AND l.price > 100\n",
    "GROUP BY c.city_name, n.nhood_name\n",
    "ORDER BY num_complaint_listings DESC\n",
    "LIMIT 10;"
   ]
  },
  {
   "cell_type": "code",
   "execution_count": 0,
   "metadata": {
    "application/vnd.databricks.v1+cell": {
     "cellMetadata": {},
     "inputWidgets": {},
     "nuid": "fbe6fb10-d420-4eae-838d-e6c1923e8e82",
     "showTitle": false,
     "tableResultSettingsMap": {},
     "title": ""
    }
   },
   "outputs": [],
   "source": [
    "%python\n",
    "#Databricks Code (Run time Optimization)\n",
    "%%python\n",
    "df_listings_large = spark.read.option(\"header\", \"true\").csv(\"/FileStore/tables/airbnb_listings_large.csv\")\n",
    "df_listings_large.write.format(\"delta\").mode(\"overwrite\").saveAsTable(\"listings_large_delta\")\n",
    "\n",
    "df_reviews_large = spark.read.option(\"header\", \"true\").csv(\"/FileStore/tables/airbnb_reviews_large.csv\")\n",
    "df_reviews_large.write.format(\"delta\").mode(\"overwrite\").saveAsTable(\"reviews_large_delta\")\n",
    "\n",
    "df_hosts = spark.read.option(\"header\", \"true\").csv(\"/FileStore/tables/airbnb_hosts.csv\")\n",
    "df_hosts.write.format(\"delta\").mode(\"overwrite\").saveAsTable(\"hosts_delta\")\n",
    "\n",
    "df_neighbourhoods = spark.read.option(\"header\", \"true\").csv(\"/FileStore/tables/airbnb_neighbourhoods.csv\")\n",
    "df_neighbourhoods.write.format(\"delta\").mode(\"overwrite\").saveAsTable(\"neighbourhoods_delta\")\n",
    "\n",
    "df_cities = spark.read.option(\"header\", \"true\").csv(\"/FileStore/tables/airbnb_cities.csv\")\n",
    "df_cities.write.format(\"delta\").mode(\"overwrite\").saveAsTable(\"cities_delta\")"
   ]
  },
  {
   "cell_type": "code",
   "execution_count": 0,
   "metadata": {
    "application/vnd.databricks.v1+cell": {
     "cellMetadata": {},
     "inputWidgets": {},
     "nuid": "c6568872-f6b3-4232-b1f9-91ecddf0c7f8",
     "showTitle": false,
     "tableResultSettingsMap": {},
     "title": ""
    }
   },
   "outputs": [],
   "source": [
    "%sql\n",
    "OPTIMIZE listings_large_delta\n",
    "ZORDER BY (neighbourhood, price);\n",
    "\n",
    "WITH complaint_listings AS (\n",
    "   SELECT\n",
    "       listing_id,\n",
    "       COUNT(*) AS complaint_count\n",
    "   FROM reviews_large_delta\n",
    "   WHERE year(review_date) IN (2024, 2025)\n",
    "     AND lower(comments) LIKE '%complaint%'\n",
    "   GROUP BY listing_id\n",
    ")\n",
    "SELECT\n",
    "   c.city_name AS city,\n",
    "   n.nhood_name,\n",
    "   COUNT(DISTINCT l.id) AS num_complaint_listings,\n",
    "   ROUND(AVG(cl.complaint_count), 2) AS avg_complaints_per_listing\n",
    "FROM complaint_listings cl\n",
    "JOIN listings_large_delta l ON cl.listing_id = l.id\n",
    "JOIN hosts_delta h ON l.host_id = h.id\n",
    "JOIN neighbourhoods_delta n ON l.neighbourhood = n.id\n",
    "JOIN cities_delta c ON n.city_id = c.id\n",
    "WHERE c.city_name = 'Sydney'\n",
    " AND h.is_superhost = true\n",
    " AND cast(l.price as int) > 100\n",
    "GROUP BY c.city_name, n.nhood_name\n",
    "ORDER BY num_complaint_listings DESC\n",
    "LIMIT 10;"
   ]
  }
 ],
 "metadata": {
  "application/vnd.databricks.v1+notebook": {
   "computePreferences": null,
   "dashboards": [],
   "environmentMetadata": {
    "base_environment": "",
    "environment_version": "1"
   },
   "inputWidgetPreferences": null,
   "language": "python",
   "notebookMetadata": {
    "pythonIndentUnit": 4
   },
   "notebookName": "data3404_y25s1_assignment1_TUT06-AssignmentGroup-08",
   "widgets": {}
  }
 },
 "nbformat": 4,
 "nbformat_minor": 0
}